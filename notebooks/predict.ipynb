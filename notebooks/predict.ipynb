{
 "cells": [
  {
   "cell_type": "code",
   "execution_count": 18,
   "id": "24aa9873",
   "metadata": {},
   "outputs": [
    {
     "data": {
      "text/plain": [
       "array([8813547.], dtype=float32)"
      ]
     },
     "execution_count": 18,
     "metadata": {},
     "output_type": "execute_result"
    }
   ],
   "source": [
    "import joblib\n",
    "import pandas as pd\n",
    "\n",
    "model = joblib.load(\"../models/model.pkl\")\n",
    "\n",
    "new_data = {\n",
    "    'region': 'Compounds in New Cairo',\n",
    "    'netHabitableSurface': 200,\n",
    "    'rooms': 3,\n",
    "    'bathrooms': 2,\n",
    "    'finish_type': 'Extra Super Lux',\n",
    "    'type': 'Apartment',\n",
    "    'view': 'Other',\n",
    "    'floor': 8,\n",
    "    'building_year': 2021\n",
    "}\n",
    "\n",
    "X_new = pd.DataFrame([new_data])\n",
    "\n",
    "model.predict(X_new)"
   ]
  }
 ],
 "metadata": {
  "kernelspec": {
   "display_name": "Python 3",
   "language": "python",
   "name": "python3"
  },
  "language_info": {
   "codemirror_mode": {
    "name": "ipython",
    "version": 3
   },
   "file_extension": ".py",
   "mimetype": "text/x-python",
   "name": "python",
   "nbconvert_exporter": "python",
   "pygments_lexer": "ipython3",
   "version": "3.11.0"
  }
 },
 "nbformat": 4,
 "nbformat_minor": 5
}
