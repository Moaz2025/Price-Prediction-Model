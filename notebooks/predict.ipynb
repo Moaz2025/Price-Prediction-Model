{
 "cells": [
  {
   "cell_type": "code",
   "execution_count": 11,
   "id": "24aa9873",
   "metadata": {},
   "outputs": [
    {
     "name": "stdout",
     "output_type": "stream",
     "text": [
      "[2839913.2]\n"
     ]
    }
   ],
   "source": [
    "import joblib\n",
    "import pandas as pd\n",
    "import numpy as np\n",
    "\n",
    "model = joblib.load(\"../models/model.pkl\")\n",
    "\n",
    "new_data = {\n",
    "    'region': 'Compounds in Alex',\n",
    "    'netHabitableSurface': 200,\n",
    "    'rooms': 3,\n",
    "    'bathrooms': 2,\n",
    "    'finish_type': 'Super Lux',\n",
    "    'type': 'Apartment',\n",
    "    'view': 'Other',\n",
    "    'floor': 6,\n",
    "    'building_year': 2020\n",
    "}\n",
    "\n",
    "X_new = pd.DataFrame([new_data])\n",
    "\n",
    "print(np.expm1(model.predict(X_new)))\n"
   ]
  }
 ],
 "metadata": {
  "kernelspec": {
   "display_name": "Python 3",
   "language": "python",
   "name": "python3"
  },
  "language_info": {
   "codemirror_mode": {
    "name": "ipython",
    "version": 3
   },
   "file_extension": ".py",
   "mimetype": "text/x-python",
   "name": "python",
   "nbconvert_exporter": "python",
   "pygments_lexer": "ipython3",
   "version": "3.11.0"
  }
 },
 "nbformat": 4,
 "nbformat_minor": 5
}
